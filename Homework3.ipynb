{
  "nbformat": 4,
  "nbformat_minor": 0,
  "metadata": {
    "colab": {
      "name": "Homework3",
      "version": "0.3.2",
      "provenance": [],
      "collapsed_sections": [],
      "include_colab_link": true
    },
    "kernelspec": {
      "name": "python3",
      "display_name": "Python 3"
    }
  },
  "cells": [
    {
      "cell_type": "markdown",
      "metadata": {
        "id": "view-in-github",
        "colab_type": "text"
      },
      "source": [
        "<a href=\"https://colab.research.google.com/github/BriandBlalock/Quantum-Work/blob/master/Homework3.ipynb\" target=\"_parent\"><img src=\"https://colab.research.google.com/assets/colab-badge.svg\" alt=\"Open In Colab\"/></a>"
      ]
    },
    {
      "metadata": {
        "id": "pcI2ujJzGD8P",
        "colab_type": "text"
      },
      "cell_type": "markdown",
      "source": [
        "\n",
        "$\n",
        " {\\bf Problem 1}$ (Quantum Fourier transform)\n",
        "\n",
        "Let $N=2^n$, $[N]=\\{0,\\ldots,N-1\\}$, and $\\omega=e^{2\\pi i / N}$ be an $N$th root of unity. The Quantum Fourier transform $F_N$ of size $N$ is \n",
        "\n",
        ">>$\n",
        "F_N = \\frac{1}{\\sqrt{N}} \\sum_{k,\\ell\\in[N]} \\omega^{k\\cdot \\ell} |k\\rangle\\langle\\ell|\\,.\n",
        "$\n",
        "\n",
        "Show that $F_N$ is unitary.\n",
        "\n",
        ">>$\n",
        "\\alpha = e^{-2\\pi i /N}\n",
        "$\n",
        "\n",
        "\n",
        ">>$\n",
        "F_N^\\dagger = \\frac{1}{\\sqrt{N}} \\sum_{k,\\ell\\in[N]} \\alpha^{k\\cdot \\ell} |\\ell\\rangle\\langle k|\\,.\n",
        "$\n",
        "\n",
        "If $F_N$ is unitary then $F_N^{\\dagger}F_N = I$\n",
        "\n",
        "\n",
        ">>$\n",
        "F_N^{\\dagger}F_N = \\left(\\frac{1}{\\sqrt{N}} \\sum_{k,\\ell\\in[N]} \\omega^{k\\cdot \\ell} |k\\rangle\\langle\\ell| \\right) \\left(\\frac{1}{\\sqrt{N}} \\sum_{k,\\ell\\in[N]} \\alpha^{k\\cdot \\ell} |\\ell\\rangle\\langle k|\\right)\n",
        "$\n",
        "\n",
        ">>$\n",
        "F_N^{\\dagger}F_N = \\frac{1}{N} \\sum_{k,\\ell\\in[N]} \\omega^{k\\cdot \\ell}\\alpha^{k\\cdot \\ell}  |\\ell\\rangle\\langle k|k\\rangle\\langle \\ell|\n",
        "$\n",
        "\n",
        ">>$\n",
        "F_N^{\\dagger}F_N = \\frac{1}{N} \\sum_{\\ell\\in[N]} |\\ell\\rangle\\langle\\ell|\\equiv I\n",
        "$\n"
      ]
    },
    {
      "metadata": {
        "id": "7InrSkYh4R2V",
        "colab_type": "text"
      },
      "cell_type": "markdown",
      "source": [
        "\n",
        "$\n",
        "{\\bf Problem \\, 2}$ (Quantum Phase Estimation)\n",
        "\n",
        "First import necessary packages and setup some constants"
      ]
    },
    {
      "metadata": {
        "id": "NUjSTEPK4EeL",
        "colab_type": "code",
        "colab": {}
      },
      "cell_type": "code",
      "source": [
        "import matplotlib.pyplot as plt\n",
        "import numpy as np\n",
        "import cmath as c\n",
        "import numpy.linalg as la\n",
        "from sklearn.preprocessing import normalize\n",
        "from mpl_toolkits.mplot3d import Axes3D\n",
        "\n",
        "ket0 = np.array([[1],[0]])\n",
        "ket1 = np.array([[0],[1]])\n",
        "\n",
        "np.set_printoptions(precision=2, suppress=True)\n"
      ],
      "execution_count": 0,
      "outputs": []
    },
    {
      "metadata": {
        "id": "6-oSZBP362n2",
        "colab_type": "text"
      },
      "cell_type": "markdown",
      "source": [
        "Here is the implementation of \n",
        "\n",
        ">>$|\\varphi\\rangle = \\bigotimes_{k=n-1,\\ldots,0} \\frac{1}{\\sqrt{2}} \\left(  |0\\rangle + \\exp(2\\pi i 2^k \\varphi) |1\\rangle \\right) \\,.$"
      ]
    },
    {
      "metadata": {
        "id": "PsJlZPps51my",
        "colab_type": "code",
        "colab": {}
      },
      "cell_type": "code",
      "source": [
        "\n",
        "def phiFunct(phi , n):\n",
        "\n",
        "    ketphi = np.array([])\n",
        "    for k in range(n-1,-1, -1):\n",
        "\n",
        "        val = (1/(c.sqrt(2))) *(ket0 + c.exp(2 * c.pi * 1j * (2**k) * phi) * ket1)\n",
        "        if( not ketphi.any()):\n",
        "            ketphi = val\n",
        "        else:\n",
        "            ketphi = np.kron(ketphi, val)\n",
        "\n",
        "\n",
        "    return ketphi"
      ],
      "execution_count": 0,
      "outputs": []
    },
    {
      "metadata": {
        "id": "KaS8E7ia7Jld",
        "colab_type": "text"
      },
      "cell_type": "markdown",
      "source": [
        "This function calculates \n",
        "\n",
        ">>>$F_N^\\dagger |\\varphi\\rangle$\n",
        "\n",
        "for any $\\textit{n}$"
      ]
    },
    {
      "metadata": {
        "id": "Fm1Kirc254ZD",
        "colab_type": "code",
        "colab": {}
      },
      "cell_type": "code",
      "source": [
        "def fourierDagger(n,ket):\n",
        "\n",
        "    FnD = np.array([[]])\n",
        "    N = 2**n\n",
        "    omega = c.exp(-2 * c.pi * 1j / N)\n",
        "    for k in range(0,N):\n",
        "\n",
        "        ketk = np.zeros(N)\n",
        "        ketk[k] =1\n",
        "\n",
        "        for l in range(0,N) :\n",
        "            ketl = np.zeros(N)\n",
        "            ketl[l] =1\n",
        "            bral =   np.asmatrix(ketl).getH()\n",
        "\n",
        "            val = omega**(k*l) * np.kron(bral, ketk)\n",
        "\n",
        "            if( not FnD.any() ):\n",
        "                FnD = val\n",
        "            else:\n",
        "                FnD += val\n",
        "\n",
        "\n",
        "\n",
        "    FnD *= 1/(c.sqrt(N))\n",
        "    return np.matmul(   FnD, ket)\n"
      ],
      "execution_count": 0,
      "outputs": []
    },
    {
      "metadata": {
        "id": "PtJSt2Nl7stt",
        "colab_type": "text"
      },
      "cell_type": "markdown",
      "source": [
        "Here is the function I use to graph the results"
      ]
    },
    {
      "metadata": {
        "id": "Nl2CcjX557jl",
        "colab_type": "code",
        "colab": {}
      },
      "cell_type": "code",
      "source": [
        "def display(ket, n,p):\n",
        "    fig = plt.figure()\n",
        "    ax = fig.add_subplot(111)\n",
        "    #ket = np.around(ket, decimals=1)\n",
        "\n",
        "    ket = np.absolute(ket)\n",
        "    #Ndecimals = 1\n",
        "    #decade = 10**Ndecimals\n",
        "    #ket =np.trunc(ket*decade)/decade\n",
        "    ket = normalize(ket,axis=0, norm='l2')\n",
        "    #print(ket)\n",
        "    for i in range(0,2**n) :\n",
        "        val = np.asscalar(ket[i])\n",
        "        #print(val)\n",
        "        ax.scatter(i,val)\n",
        "    ax.set_xlabel('x')\n",
        "    ax.set_ylabel('Pr(x)')\n",
        "    ax.set_title(\"N = 2^{0} phi = {1}\".format(n,p))\n",
        "    plt.ylim(0,1)\n",
        "    plt.xlim(0,2**n)\n",
        "    plt.xticks(np.arange(0,32))\n",
        "\n",
        "    plt.show()"
      ],
      "execution_count": 0,
      "outputs": []
    },
    {
      "metadata": {
        "id": "iM8K8EnX8AEy",
        "colab_type": "text"
      },
      "cell_type": "markdown",
      "source": [
        ""
      ]
    },
    {
      "metadata": {
        "id": "ZeTTH_b68DCx",
        "colab_type": "code",
        "outputId": "79abccc7-2090-4932-8c18-38295a1cbe34",
        "colab": {
          "base_uri": "https://localhost:8080/",
          "height": 51
        }
      },
      "cell_type": "code",
      "source": [
        "#@title Enter Data\n",
        "\n",
        "p = int( input())\n",
        "p/= 256\n",
        "n=  int(input())"
      ],
      "execution_count": 0,
      "outputs": [
        {
          "output_type": "stream",
          "text": [
            "34\n",
            "5\n"
          ],
          "name": "stdout"
        }
      ]
    },
    {
      "metadata": {
        "id": "oY7As9bk8cy6",
        "colab_type": "text"
      },
      "cell_type": "markdown",
      "source": [
        "These are the step by step caluculations needed to complete the problem."
      ]
    },
    {
      "metadata": {
        "id": "CU4xlzSg6Cvx",
        "colab_type": "code",
        "outputId": "0f26ff79-e122-4c1b-825b-33f01505cb26",
        "colab": {
          "base_uri": "https://localhost:8080/",
          "height": 295
        }
      },
      "cell_type": "code",
      "source": [
        "\n",
        "k = phiFunct(p,n)\n",
        "fnPhi = fourierDagger(n,k)\n",
        "#print(fnPhi)\n",
        "display(fnPhi, n,p)"
      ],
      "execution_count": 0,
      "outputs": [
        {
          "output_type": "display_data",
          "data": {
            "image/png": "[encoded data removed]",
            "text/plain": [
              "<Figure size 432x288 with 1 Axes>"
            ]
          },
          "metadata": {
            "tags": []
          }
        }
      ]
    }
  ]
}